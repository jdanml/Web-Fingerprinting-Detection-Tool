{
 "cells": [
  {
   "cell_type": "code",
   "execution_count": 28,
   "metadata": {
    "hide_input": true,
    "init_cell": true
   },
   "outputs": [],
   "source": [
    "import pandas as pd\n",
    "import sqlite3 as lite\n",
    "import ipywidgets as widgets\n",
    "from ipywidgets import Layout, Box, HBox, VBox, interact\n",
    "from IPython.display import Javascript, display, clear_output\n",
    "from tkinter import *\n",
    "from tkinter.filedialog import askopenfilename\n",
    "import sys\n",
    "import time\n",
    "import threading\n",
    "import os\n",
    "from automation import TaskManager, CommandSequence\n",
    "from urllib.request import Request, urlopen\n",
    "from __future__ import absolute_import\n",
    "from six.moves import range"
   ]
  },
  {
   "cell_type": "markdown",
   "metadata": {
    "hide_input": false
   },
   "source": [
    "# Detección de Fingerprinting en sitios web"
   ]
  },
  {
   "cell_type": "markdown",
   "metadata": {},
   "source": [
    "##  1. Ingrese la lista de sitios"
   ]
  },
  {
   "cell_type": "markdown",
   "metadata": {
    "hide_input": false
   },
   "source": [
    "Indique un conjunto de sitios web a explorar por OpenWPM. Existen dos opciones:\n",
    "* **CSV**: Permite la carga de un fichero CSV con la presentación indicada.\n",
    "* **Manual**: Presenta un recuadro en el que es posible escribir las distintas URL de los sitios web. "
   ]
  },
  {
   "cell_type": "code",
   "execution_count": 29,
   "metadata": {
    "hide_input": true,
    "init_cell": true,
    "scrolled": true
   },
   "outputs": [
    {
     "data": {
      "application/vnd.jupyter.widget-view+json": {
       "model_id": "f886f4a2e49649e380e72826a7643243",
       "version_major": 2,
       "version_minor": 0
      },
      "text/html": [
       "<p>Failed to display Jupyter Widget of type <code>VBox</code>.</p>\n",
       "<p>\n",
       "  If you're reading this message in the Jupyter Notebook or JupyterLab Notebook, it may mean\n",
       "  that the widgets JavaScript is still loading. If this message persists, it\n",
       "  likely means that the widgets JavaScript library is either not installed or\n",
       "  not enabled. See the <a href=\"https://ipywidgets.readthedocs.io/en/stable/user_install.html\">Jupyter\n",
       "  Widgets Documentation</a> for setup instructions.\n",
       "</p>\n",
       "<p>\n",
       "  If you're reading this message in another frontend (for example, a static\n",
       "  rendering on GitHub or <a href=\"https://nbviewer.jupyter.org/\">NBViewer</a>),\n",
       "  it may mean that your frontend doesn't currently support widgets.\n",
       "</p>\n"
      ],
      "text/plain": [
       "VBox(children=(Tab(children=(HBox(children=(Button(button_style='success', description='Cargar', style=ButtonStyle()), HTML(value='<p style=\"padding-left:50px\"> Presione el botón <b>Cargar</b> para buscar un fichero CSV en su disco.<br> El contenido del fichero CSV debe presentar el siguiente patrón:</p><ul style=\"padding-left:70px\"><li> 1,sitio1.com</li> <li>2,sitio2.net</li> <li>3,sitio3.org</li></ul> <p style=\"padding-left:50px\">Nota: Si ha ingresado sitios web empleando la opción \"Manual\", asegúrese que el botón \"Confirmar lista\" no esté activado</p>'))), HBox(children=(Textarea(value='', rows=10), ToggleButton(value=False, button_style='success', description='Confirmar', icon='check', tooltip='Confirmar'), HTML(value='<p style=\"padding-left:50px\"> Ingrese las URL a rastrear en el recuadro de la izquierda.<br> Instrucciones:</p> <ul style=\"padding-left:70px\"><li>Incluya el protocolo (http, https) en cada dirección.</li><li>Separe cada elemento con una coma.</li>Por ejemplo:<br> https://www.sitio1.com, https://www.sitio2.net, http://www.sitio3.org </ul><ul style=\"padding-left:70px\"><li>Presione el botón <b>Confirmar</b> para activar el uso del conjunto ingresado.</li></ul>')))), _titles={'0': 'CSV', '1': 'Manual'}),))"
      ]
     },
     "metadata": {},
     "output_type": "display_data"
    }
   ],
   "source": [
    "def run_cell(ev):\n",
    "    display(Javascript('IPython.notebook.execute_cell_range(IPython.notebook.get_selected_index()+1, IPython.notebook.get_selected_index()+2)'))\n",
    "\n",
    "bupload = widgets.Button(button_style='success', description=\"Cargar\")\n",
    "bupload.on_click(run_cell)\n",
    "\n",
    "txtArea = widgets.Textarea(rows=10)\n",
    "buttonm = widgets.ToggleButton(\n",
    "    value=False,\n",
    "    description='Confirmar',\n",
    "    disabled=False,\n",
    "    button_style='success', # 'success', 'info', 'warning', 'danger' or ''\n",
    "    tooltip='Confirmar',\n",
    "    icon='check')\n",
    "\n",
    "tab1 = HBox(children=[bupload, widgets.HTML(value='<p style=\"padding-left:50px\"> Presione el botón <b>Cargar</b> para buscar un fichero CSV en su disco.<br> El contenido del fichero CSV debe presentar el siguiente patrón:</p><ul style=\"padding-left:70px\"><li> 1,sitio1.com</li> <li>2,sitio2.net</li> <li>3,sitio3.org</li></ul> <p style=\"padding-left:50px\">Nota: Si ha ingresado sitios web empleando la opción \"Manual\", asegúrese que el botón \"Confirmar lista\" no esté activado</p>')])\n",
    "tab2 = HBox(children=[txtArea, buttonm, widgets.HTML(value='<p style=\"padding-left:50px\"> Ingrese las URL a rastrear en el recuadro de la izquierda.<br> Instrucciones:</p> <ul style=\"padding-left:70px\"><li>Incluya el protocolo (http, https) en cada dirección.</li><li>Separe cada elemento con una coma.</li>Por ejemplo:<br> https://www.sitio1.com, https://www.sitio2.net, http://www.sitio3.org </ul><ul style=\"padding-left:70px\"><li>Presione el botón <b>Confirmar</b> para activar el uso del conjunto ingresado.</li></ul>')])\n",
    "\n",
    "tab = widgets.Tab(children=[tab1, tab2])\n",
    "tab.set_title(0, 'CSV')\n",
    "tab.set_title(1, 'Manual')\n",
    "VBox(children=[tab])"
   ]
  },
  {
   "cell_type": "code",
   "execution_count": null,
   "metadata": {
    "hide_input": true
   },
   "outputs": [],
   "source": [
    "root = Tk()\n",
    "#root.update()\n",
    "flName = askopenfilename(initialdir = \"/\",title = \"Selecciona el fichero\",filetypes = [(\"CSV - Comma-separated values\",\"*.csv\")])\n",
    "root.destroy()\n",
    "if not flName:\n",
    "    print(\"Se ha cancelado la acción. Por favor, cargue un fichero CSV.\")\n",
    "else:\n",
    "    print (\"El siguiente fichero se ha cargado correctamente: \" + os.path.split(flName)[1])"
   ]
  },
  {
   "cell_type": "markdown",
   "metadata": {},
   "source": [
    "##  2. Rastrear sitios web"
   ]
  },
  {
   "cell_type": "markdown",
   "metadata": {},
   "source": [
    "Presione el botón **Ejecutar OpenWPM** para iniciar el rastreador web con la lista de sitios ingresada.\n",
    "\n",
    "Cuando la ejecución de la herramienta finalice, debe observar el siguiente mensaje: **Ejecución finalizada**."
   ]
  },
  {
   "cell_type": "code",
   "execution_count": 30,
   "metadata": {
    "hide_input": true,
    "init_cell": true
   },
   "outputs": [
    {
     "data": {
      "application/vnd.jupyter.widget-view+json": {
       "model_id": "1841914ba49749bdad9ac090ea34413d",
       "version_major": 2,
       "version_minor": 0
      },
      "text/html": [
       "<p>Failed to display Jupyter Widget of type <code>Button</code>.</p>\n",
       "<p>\n",
       "  If you're reading this message in the Jupyter Notebook or JupyterLab Notebook, it may mean\n",
       "  that the widgets JavaScript is still loading. If this message persists, it\n",
       "  likely means that the widgets JavaScript library is either not installed or\n",
       "  not enabled. See the <a href=\"https://ipywidgets.readthedocs.io/en/stable/user_install.html\">Jupyter\n",
       "  Widgets Documentation</a> for setup instructions.\n",
       "</p>\n",
       "<p>\n",
       "  If you're reading this message in another frontend (for example, a static\n",
       "  rendering on GitHub or <a href=\"https://nbviewer.jupyter.org/\">NBViewer</a>),\n",
       "  it may mean that your frontend doesn't currently support widgets.\n",
       "</p>\n"
      ],
      "text/plain": [
       "Button(button_style='info', description='Ejecutar OpenWPM', style=ButtonStyle())"
      ]
     },
     "metadata": {},
     "output_type": "display_data"
    }
   ],
   "source": [
    "button = widgets.Button(button_style='info',description=\"Ejecutar OpenWPM\")\n",
    "button.on_click(run_cell)\n",
    "display(button)"
   ]
  },
  {
   "cell_type": "code",
   "execution_count": null,
   "metadata": {
    "hide_input": true
   },
   "outputs": [],
   "source": [
    "if buttonm.value is True:\n",
    "# The list of sites that we wish to crawl\n",
    "    NUM_BROWSERS = 3\n",
    "    sites = txtArea.value.split(',')\n",
    "\n",
    "# Loads the manager preference and 3 copies of the default browser dictionaries\n",
    "    manager_params, browser_params = TaskManager.load_default_params(NUM_BROWSERS)\n",
    "\n",
    "# Update browser configuration (use this for per-browser settings)\n",
    "    for i in range(NUM_BROWSERS):\n",
    "    # Record HTTP Requests and Responses\n",
    "        browser_params[i]['http_instrument'] = True\n",
    "    # Enable flash for all three browsers\n",
    "        browser_params[i]['disable_flash'] = False\n",
    "    browser_params[0]['headless'] = True  # Launch only browser 0 headless\n",
    "\n",
    "# Update TaskManager configuration (use this for crawl-wide settings)\n",
    "    manager_params['data_directory'] = os.getcwd()\n",
    "    manager_params['log_directory'] = os.getcwd()\n",
    "\n",
    "# Instantiates the measurement platform\n",
    "# Commands time out by default after 60 seconds\n",
    "    manager = TaskManager.TaskManager(manager_params, browser_params)\n",
    "\n",
    "# Visits the sites with all browsers simultaneously\n",
    "    for site in sites:\n",
    "        command_sequence = CommandSequence.CommandSequence(site)\n",
    "\n",
    "    # Start by visiting the page\n",
    "        command_sequence.get(sleep=0, timeout=60)\n",
    "\n",
    "    # dump_profile_cookies/dump_flash_cookies closes the current tab.\n",
    "        command_sequence.dump_profile_cookies(120)\n",
    "\n",
    "    # index='**' synchronizes visits between the three browsers\n",
    "        manager.execute_command_sequence(command_sequence, index='**')\n",
    "\n",
    "# Shuts down the browsers and waits for the data to finish logging\n",
    "    manager.close()\n",
    "\n",
    "\n",
    "elif buttonm.value is False:\n",
    "# Constants\n",
    "    NUM_BROWSERS = 3\n",
    "    output_dir = os.getcwd()\n",
    "\n",
    "# Input sites list\n",
    "    site_list = flName\n",
    "\n",
    "    def get_site(line):\n",
    "        return 'http://' + line.strip().split(',')[1] if line.count(',') >= 1 else None\n",
    "\n",
    "    start_site_index = 0\n",
    "\n",
    "# Loads the manager preference and the default browser dictionaries\n",
    "    manager_params, browser_params = TaskManager.load_default_params(NUM_BROWSERS)\n",
    "\n",
    "# Update browser configuration (use this for per-browser settings)\n",
    "    for i in range(NUM_BROWSERS):\n",
    "    # Record HTTP Requests and Responses\n",
    "        browser_params[i]['http_instrument'] = True\n",
    "    # Enable flash for all three browsers\n",
    "        browser_params[i]['disable_flash'] = False\n",
    "    browser_params[0]['headless'] = True  # Launch only browser 0 headless\n",
    "\n",
    "# Update TaskManager configuration (use this for crawl-wide settings)\n",
    "    manager_params['data_directory'] = output_dir\n",
    "    manager_params['log_directory'] = output_dir\n",
    "\n",
    "# Instantiates the measurement platform\n",
    "    manager = TaskManager.TaskManager(manager_params, browser_params)\n",
    "\n",
    "# Visits the sites\n",
    "\n",
    "\n",
    "    def crawl_site(site, manager):\n",
    "        command_sequence = CommandSequence.CommandSequence(site, reset=True)\n",
    "    # Start by visiting the page\n",
    "        command_sequence.get(sleep=0, timeout=60)\n",
    "    # dump_profile_cookies/dump_flash_cookies closes the current tab\n",
    "        command_sequence.dump_profile_cookies(120)\n",
    "    # index='**' synchronizes visits between the three browsers\n",
    "        manager.execute_command_sequence(command_sequence, index='**')\n",
    "\n",
    "\n",
    "# Read site list\n",
    "    index = 0\n",
    "    with open(site_list) as f:\n",
    "        for line in f:\n",
    "            index += 1\n",
    "            if index < start_site_index:\n",
    "                continue\n",
    "            site = get_site(line)\n",
    "            if site is not None:\n",
    "                crawl_site(site, manager)\n",
    "\n",
    "# Shuts down the browsers and waits for the data to finish logging\n",
    "    manager.close()\n",
    "\n",
    "print(\"Ejecución finalizada\")"
   ]
  },
  {
   "cell_type": "markdown",
   "metadata": {},
   "source": [
    "## 3. Resultados"
   ]
  },
  {
   "cell_type": "markdown",
   "metadata": {},
   "source": [
    "Presione el botón \"Resumen General\" para mostrar una tabla de los sitios web que aplican por lo menos una de las siguientes técnica des *fingerprinting*: Objetos informativos, Canvas, Camvas-Fuentes y WebRTC."
   ]
  },
  {
   "cell_type": "code",
   "execution_count": 31,
   "metadata": {
    "hide_input": true,
    "init_cell": true
   },
   "outputs": [
    {
     "data": {
      "application/vnd.jupyter.widget-view+json": {
       "model_id": "884977c1070b474f8b6d8ae08f968213",
       "version_major": 2,
       "version_minor": 0
      },
      "text/html": [
       "<p>Failed to display Jupyter Widget of type <code>Button</code>.</p>\n",
       "<p>\n",
       "  If you're reading this message in the Jupyter Notebook or JupyterLab Notebook, it may mean\n",
       "  that the widgets JavaScript is still loading. If this message persists, it\n",
       "  likely means that the widgets JavaScript library is either not installed or\n",
       "  not enabled. See the <a href=\"https://ipywidgets.readthedocs.io/en/stable/user_install.html\">Jupyter\n",
       "  Widgets Documentation</a> for setup instructions.\n",
       "</p>\n",
       "<p>\n",
       "  If you're reading this message in another frontend (for example, a static\n",
       "  rendering on GitHub or <a href=\"https://nbviewer.jupyter.org/\">NBViewer</a>),\n",
       "  it may mean that your frontend doesn't currently support widgets.\n",
       "</p>\n"
      ],
      "text/plain": [
       "Button(button_style='info', description='Resumen General', style=ButtonStyle())"
      ]
     },
     "metadata": {},
     "output_type": "display_data"
    }
   ],
   "source": [
    "button = widgets.Button(button_style='info',description=\"Resumen General\")\n",
    "button.on_click(run_cell)\n",
    "display(button)"
   ]
  },
  {
   "cell_type": "code",
   "execution_count": null,
   "metadata": {
    "hide_input": true
   },
   "outputs": [],
   "source": [
    "if os.path.isfile(\"crawl-data.sqlite\"):\n",
    "    \n",
    "    print(\"Procesando...\")\n",
    "    clear_output(wait=True)\n",
    "\n",
    "# Conecta con la base de datos que origina OpenWPM como resultado\n",
    "    wpm_db = \"crawl-data.sqlite\"\n",
    "    conn = lite.connect(wpm_db)\n",
    "    cur = conn.cursor()\n",
    "\n",
    "# Define los valores que permiten comprobar las condiciones de fingerprinting por objetos informativos de JS\n",
    "    info_ob= [\"window.navigator.appCodeName\", \"window.navigator.appName\", \"window.navigator.appVersion\", \"window.navigator.buildID\", \"window.navigator.cookieEnabled\", \"window.navigator.doNotTrack\", \"window.navigator.geolocation\", \"window.navigator.language\", \"window.navigator.languages\", \"window.navigator.onLine\", \"window.navigator.oscpu\", \"window.navigator.platform\", \"window.navigator.product\", \"window.navigator.productSub\", \"window.navigator.userAgent\", \"window.navigator.vendorSub\", \"window.navigator.vendor\", \"window.screen.pixelDepth\", \"window.screen.colorDepth\"]\n",
    "    navplug= \"window.navigator.plugins\"\n",
    "    navmim= \"window.navigator.mimeTypes\"\n",
    "    ver_info_1 = set()\n",
    "    ver_info_2 = set()\n",
    "    info_sites_1 = set()\n",
    "    info_sites_2 = set()\n",
    "    info_sites = set()\n",
    "# Define los valores que permiten comprobar las condiciones de canvas fingerprinting\n",
    "    canvas_h = \"HTMLCanvasElement.height\"\n",
    "    canvas_w = \"HTMLCanvasElement.width\"\n",
    "    canvas_cf= \"CanvasRenderingContext2D.fillStyle\"\n",
    "    canvas_cs= \"CanvasRenderingContext2D.strokeStyle\"\n",
    "    canvas_ff= \"CanvasRenderingContext2D.fillText\"\n",
    "    canvas_fs= \"CanvasRenderingContext2D.strokeText\"\n",
    "    canvas_save= \"CanvasRenderingContext2D.save\"\n",
    "    canvas_rest= \"CanvasRenderingContext2D.restore\"\n",
    "    canvas_el= \"HTMLCanvasElement.addEventListener\"\n",
    "    canvas_data= \"HTMLCanvasElement.toDataURL\"\n",
    "    canvas_img= \"CanvasRenderingContext2D.getImageData\"\n",
    "    fp_1 = set()\n",
    "    fp_2 = set()\n",
    "    fp_3 = set()\n",
    "    fp_4 = set()\n",
    "    veri_1 = set()\n",
    "    veri_2 = set()\n",
    "    fp_sites = set()\n",
    "# Define los valores que permiten comprobar las condiciones de canvas font fingerprinting\n",
    "    canvas_font= \"CanvasRenderingContext2D.font\"\n",
    "    canvas_text= \"CanvasRenderingContext2D.measureText\"\n",
    "    fontp_1 = set()\n",
    "    fontp_2 = set()\n",
    "    verif_1 = set()\n",
    "    verif_2 = list()\n",
    "    fontp_sites = set()\n",
    "# Define los valores que permiten comprobar las condiciones de webRTC fingerprinting\n",
    "    rtc_data= \"RTCPeerConnection.createDataChannel\"\n",
    "    rtc_offer= \"RTCPeerConnection.createOffer\"\n",
    "    rtc_cand= \"RTCPeerConnection.onicecandidate\"\n",
    "    rtc_1 = set()\n",
    "    rtc_2 = set()\n",
    "    rtc_3 = set()\n",
    "    rtc_sites_0 = set()\n",
    "    rtc_sites_1 = set()\n",
    "    rtc_sites_2 = set()\n",
    "    rtc_sites_3 = set()\n",
    "    rtc_sites = set()\n",
    "# Define las variables para el resumen\n",
    "    sum_sites= set()\n",
    "    ar = ()\n",
    "    br = ()\n",
    "    cr = ()\n",
    "    dr = ()\n",
    "    er = ()\n",
    "    fr = ()\n",
    "    gr = ()\n",
    "    hr = ()\n",
    "\n",
    "    \n",
    "# Busca en la base de datos, verificando los sitios donde se cumplen las dos condiciones fingerprinting por objetos informativos de JS\n",
    "\n",
    "    for url, symbol, op, val, arg, top_url in cur.execute(\"SELECT distinct j.script_url, j.symbol, j.operation, j.value, j.arguments, v.site_url FROM javascript as j JOIN site_visits as v ON j.visit_id = v.visit_id WHERE j.symbol LIKE '%window%' ORDER BY v.site_url;\"):\n",
    "    \n",
    "        if navplug in symbol:\n",
    "            ver_info_1.add(url + symbol)\n",
    "            if (sum((url + symbol) in s for s in ver_info_1)) > 5:\n",
    "                info_sites_1.add(top_url + ' ' + url)\n",
    "        elif navmim in symbol:\n",
    "            ver_info_1.add(url + symbol)\n",
    "            if (sum((url + symbol) in s for s in ver_info_1)) > 3:\n",
    "                info_sites_1.add(top_url + ' ' + url)\n",
    "\n",
    "        if symbol in info_ob:\n",
    "            ver_info_2.add(url + symbol)\n",
    "            if (sum((url) in s for s in ver_info_2)) > 15:\n",
    "                info_sites_2.add(top_url + ' ' + url)\n",
    "# Agrupa los sitios que cumplen las condiciones del fingerprinting por objetos informativos de JS (Interseccion en un solo set)\n",
    "    info_sites = info_sites_1 | info_sites_2\n",
    "\n",
    "# Busca en la base de datos, verificando los sitios donde se cumplen las cuatro condiciones de canvas fingerprinting\n",
    "\n",
    "    for url, symbol, op, val, arg, top_url in cur.execute(\"SELECT distinct j.script_url, j.symbol, j.operation, j.value, j.arguments, v.site_url FROM javascript as j JOIN site_visits as v ON j.visit_id = v.visit_id WHERE j.symbol LIKE '%Canvas%' ORDER BY v.site_url;\"):\n",
    "\n",
    "        if canvas_h in symbol: \n",
    "            if val != \"null\" and float(val) >= 16:\n",
    "                veri_1.add(symbol + url)\n",
    "                if (canvas_w + url) in veri_1:\n",
    "                    fp_1.add(top_url + ' ' + url)\n",
    "        elif canvas_w in symbol:\n",
    "            if val != \"null\" and float(val) >= 16:\n",
    "                veri_1.add(symbol + url)\n",
    "                if (canvas_h + url) in veri_1:\n",
    "                    fp_1.add(top_url + ' ' + url)\n",
    "            \n",
    "        if canvas_cf in symbol:\n",
    "            veri_2.add(symbol + url + val)\n",
    "            if (canvas_cs + url + val) in veri_2:\n",
    "                fp_2.add(top_url + ' ' + url)\n",
    "            elif (sum((canvas_cf + url) in s for s in veri_2)) > 1:\n",
    "                fp_2.add(top_url + ' ' + url)\n",
    "        elif canvas_cs in symbol:\n",
    "            veri_2.add(symbol + url + val)\n",
    "            if (canvas_cf + url + val) in veri_2:\n",
    "                fp_2.add(top_url + ' ' + url)\n",
    "            elif (sum((canvas_cs + url) in s for s in veri_2)) > 1:\n",
    "                fp_2.add(top_url + ' ' + url)\n",
    "        elif canvas_ff in symbol and (len(set(arg[arg.find('0\":\"')+4:arg.find(',\"1\"')-1])))>= 10:\t\n",
    "            fp_2.add(top_url + ' ' + url)\n",
    "        elif canvas_fs in symbol and (len(set(arg[arg.find('0\":\"')+4:arg.find(',\"1\"')-1])))>= 10:\t\n",
    "            fp_2.add(top_url + ' ' + url)\n",
    "\n",
    "        if canvas_save in symbol:\n",
    "            fp_3.add(top_url + ' ' + url)\n",
    "        elif canvas_rest in symbol:\n",
    "            fp_3.add(top_url + ' ' + url)\n",
    "        elif canvas_el in symbol:\n",
    "            fp_3.add(top_url + ' ' + url)\n",
    "\n",
    "        if canvas_data in symbol:\n",
    "            fp_4.add(top_url + ' ' + url)\n",
    "        elif canvas_img in symbol:\n",
    "            if float(arg[arg.find('\"2\":')+4:arg.find(',\"3\"')]) >= 16:\n",
    "                if float(arg[arg.find('\"3\":')+4:arg.find('}')]) >= 16:\n",
    "                    fp_4.add(top_url + ' ' + url)\n",
    "# Agrupa los sitios que cumplen las cuatro condiciones del canvas fingerprinting (Interseccion en un solo set)\n",
    "    fp_sites = (fp_1 & fp_2 & fp_4) - fp_3\n",
    "    \n",
    "# Busca en la base de datos, verificando los sitios donde se cumplen las dos condiciones de canvas font fingerprinting\n",
    "    for url, vid, symbol, op, val, arg, top_url in cur.execute(\"SELECT j.script_url, j.visit_id, j.symbol, j.operation, j.value, j.arguments, v.site_url FROM javascript as j JOIN site_visits as v ON j.visit_id = v.visit_id WHERE j.symbol LIKE '%Canvas%' ORDER BY v.site_url;\"):\n",
    "\n",
    "        if canvas_font in symbol:\n",
    "            verif_1.add(symbol + url + val)\n",
    "            if (sum((canvas_font + url) in s for s in verif_1)) >= 50:\n",
    "                fontp_1.add(top_url + ' ' + url)\n",
    "\n",
    "        if canvas_text in symbol:\n",
    "            verif_2.append(str(vid) + symbol + url + arg)\n",
    "            if verif_2.count(str(vid) + symbol + url + arg) >= 50:\n",
    "                fontp_2.add(top_url + ' ' + url)\n",
    "                \n",
    "# Agrupa los sitios que cumplen las dos condiciones del canvas font fingerprinting (Interseccion en un solo set)\n",
    "    fontp_sites = fontp_1 & fontp_2\n",
    "# Busca en la base de datos, verificando los sitios donde se cumplen las condiciones de webRTC fingerprinting\n",
    "    for url, symbol, op, val, arg, top_url in cur.execute(\"SELECT j.script_url, j.symbol, j.operation, j.value, j.arguments, v.site_url FROM javascript as j JOIN site_visits as v ON j.visit_id = v.visit_id WHERE j.symbol LIKE '%RTCPeerConnection%' ORDER BY v.site_url;\"):\n",
    "\n",
    "        if rtc_data in symbol:\n",
    "            rtc_1.add(top_url + ' ' + url)\n",
    "\n",
    "        if rtc_offer in symbol:\n",
    "            rtc_2.add(top_url + ' ' + url)\n",
    "\n",
    "        if rtc_cand in symbol:\n",
    "            rtc_3.add(top_url + ' ' + url)\n",
    "# Agrupa los sitios que cumplen las condiciones del webRTC fingerprinting (Interseccion en un solo set)\n",
    "    rtc_sites_0 = rtc_1 & rtc_2 & rtc_3\n",
    "# Comprueba si la información de webRTC es utilizada en un contexto de fingerprinting\n",
    "    rtc_sites_1 = rtc_sites_0 & info_sites\n",
    "    rtc_sites_2 = rtc_sites_0 & fp_sites\n",
    "    rtc_sites_3 = rtc_sites_0 & fontp_sites\n",
    "    rtc_sites = rtc_sites_1 | rtc_sites_2 | rtc_sites_3\n",
    "\n",
    "# Separamos el set en dos listas\n",
    "    if len(info_sites) == 0 & len(fp_sites) == 0 & len(fontp_sites) == 0 & len(rtc_sites) == 0:\n",
    "        print(\"No hay presencia de fingerprinting en los sitios analizados.\")\n",
    "    else:\n",
    "        if len(info_sites) != 0:\n",
    "            ar, br = zip(*(s.split(' ') for s in info_sites))\n",
    "        if len(fp_sites) != 0:\n",
    "            cr, dr = zip(*(s.split(' ') for s in fp_sites))\n",
    "        if len(fontp_sites) != 0:\n",
    "            er, fr = zip(*(s.split(' ') for s in fontp_sites))\n",
    "        if len(rtc_sites) != 0:\n",
    "            gr, hr = zip(*(s.split(' ') for s in rtc_sites))\n",
    "\n",
    "# Creamos un dataframe con las dos listas\n",
    "        df1 = pd.DataFrame({'URL Sitio Web': ar, 'URL Script': br, 'Técnica': 'Objetos Informativos'})\n",
    "        df1 = df1[['URL Sitio Web', 'URL Script', 'Técnica']]\n",
    "# Creamos un dataframe con las dos listas\n",
    "        df2 = pd.DataFrame({'URL Sitio Web': cr, 'URL Script': dr, 'Técnica': 'Canvas'})\n",
    "        df2 = df2[['URL Sitio Web', 'URL Script', 'Técnica']]\n",
    "# Creamos un dataframe con las dos listas\n",
    "        df3 = pd.DataFrame({'URL Sitio Web': er, 'URL Script': fr, 'Técnica': 'Canvas-Fuentes'})\n",
    "        df3 = df3[['URL Sitio Web', 'URL Script', 'Técnica']]\n",
    "# Creamos un dataframe con las dos listas\n",
    "        df4 = pd.DataFrame({'URL Sitio Web': gr, 'URL Script': hr, 'Técnica': 'WebRTC'})\n",
    "        df4 = df4[['URL Sitio Web', 'URL Script', 'Técnica']]\n",
    "        \n",
    "# Creamos un dataframe con todas las técnicas\n",
    "        frames = [df1, df2, df3, df4]\n",
    "        sum_sites = pd.concat(frames)\n",
    "    \n",
    "#pd.options.display.max_colwidth\n",
    "        pd.set_option('max_colwidth', -1)\n",
    "\n",
    "        print('Los sitios web que aplican Fingerprinting según los criterios analizados son los siguientes:')\n",
    "        display(sum_sites.pivot_table(index=['URL Sitio Web'], columns='Técnica', values='URL Script', aggfunc='count'))\n",
    "        #display(sum_sites.pivot_table(index=['URL Sitio Web','Técnica'], aggfunc='count'))\n",
    "\n",
    "else:\n",
    "    print('No se ha podido encontrar la base de datos resultante de ejecutar OpenWPM')"
   ]
  },
  {
   "cell_type": "markdown",
   "metadata": {},
   "source": [
    "### Resultados detallados"
   ]
  },
  {
   "cell_type": "markdown",
   "metadata": {},
   "source": [
    "Para obtener la lista de los sitios que aplican una técnica de *fingerprinting* en particular, además del URL del script correspondiente, presione uno o varios de los siguientes botones en función de la técnica o técnicas de su interés."
   ]
  },
  {
   "cell_type": "code",
   "execution_count": 32,
   "metadata": {
    "hide_input": true,
    "init_cell": true
   },
   "outputs": [
    {
     "data": {
      "application/vnd.jupyter.widget-view+json": {
       "model_id": "dace6d6f263a410abf8bdfbe4a43c35f",
       "version_major": 2,
       "version_minor": 0
      },
      "text/html": [
       "<p>Failed to display Jupyter Widget of type <code>Button</code>.</p>\n",
       "<p>\n",
       "  If you're reading this message in the Jupyter Notebook or JupyterLab Notebook, it may mean\n",
       "  that the widgets JavaScript is still loading. If this message persists, it\n",
       "  likely means that the widgets JavaScript library is either not installed or\n",
       "  not enabled. See the <a href=\"https://ipywidgets.readthedocs.io/en/stable/user_install.html\">Jupyter\n",
       "  Widgets Documentation</a> for setup instructions.\n",
       "</p>\n",
       "<p>\n",
       "  If you're reading this message in another frontend (for example, a static\n",
       "  rendering on GitHub or <a href=\"https://nbviewer.jupyter.org/\">NBViewer</a>),\n",
       "  it may mean that your frontend doesn't currently support widgets.\n",
       "</p>\n"
      ],
      "text/plain": [
       "Button(button_style='info', description='Objetos Informativos', style=ButtonStyle())"
      ]
     },
     "metadata": {},
     "output_type": "display_data"
    }
   ],
   "source": [
    "button = widgets.Button(button_style='info',description=\"Objetos Informativos\")\n",
    "button.on_click(run_cell)\n",
    "display(button)"
   ]
  },
  {
   "cell_type": "code",
   "execution_count": null,
   "metadata": {
    "hide_input": true,
    "scrolled": false
   },
   "outputs": [],
   "source": [
    "if os.path.isfile(\"crawl-data.sqlite\"):\n",
    "    \n",
    "    print(\"Procesando...\")\n",
    "    clear_output(wait=True)\n",
    "\n",
    "# Conecta con la base de datos que origina OpenWPM como resultado\n",
    "    wpm_db = \"crawl-data.sqlite\"\n",
    "    conn = lite.connect(wpm_db)\n",
    "    cur = conn.cursor()\n",
    "\n",
    "# Define los valores que permiten comprobar las condiciones de fingerprinting por objetos informativos de JS\n",
    "    info_ob= [\"window.navigator.appCodeName\", \"window.navigator.appName\", \"window.navigator.appVersion\", \"window.navigator.buildID\", \"window.navigator.cookieEnabled\", \"window.navigator.doNotTrack\", \"window.navigator.geolocation\", \"window.navigator.language\", \"window.navigator.languages\", \"window.navigator.onLine\", \"window.navigator.oscpu\", \"window.navigator.platform\", \"window.navigator.product\", \"window.navigator.productSub\", \"window.navigator.userAgent\", \"window.navigator.vendorSub\", \"window.navigator.vendor\", \"window.screen.pixelDepth\", \"window.screen.colorDepth\"]\n",
    "    navplug= \"window.navigator.plugins\"\n",
    "    navmim= \"window.navigator.mimeTypes\"\n",
    "    ver_info_1 = set()\n",
    "    ver_info_2 = set()\n",
    "    info_sites_1 = set()\n",
    "    info_sites_2 = set()\n",
    "    info_sites = set()\n",
    "\n",
    "# Busca en la base de datos, verificando los sitios donde se cumplen las dos condiciones fingerprinting por objetos informativos de JS\n",
    "\n",
    "    for url, symbol, op, val, arg, top_url in cur.execute(\"SELECT distinct j.script_url, j.symbol, j.operation, j.value, j.arguments, v.site_url FROM javascript as j JOIN site_visits as v ON j.visit_id = v.visit_id WHERE j.symbol LIKE '%window%' ORDER BY v.site_url;\"):\n",
    "    \n",
    "        if navplug in symbol:\n",
    "            ver_info_1.add(url + symbol)\n",
    "            if (sum((url + symbol) in s for s in ver_info_1)) > 5:\n",
    "                info_sites_1.add(top_url + ' ' + url)\n",
    "        elif navmim in symbol:\n",
    "            ver_info_1.add(url + symbol)\n",
    "            if (sum((url + symbol) in s for s in ver_info_1)) > 3:\n",
    "                info_sites_1.add(top_url + ' ' + url)\n",
    "\n",
    "        if symbol in info_ob:\n",
    "            ver_info_2.add(url + symbol)\n",
    "            if (sum((url) in s for s in ver_info_2)) > 15:\n",
    "                info_sites_2.add(top_url + ' ' + url)\n",
    "\n",
    "# Agrupa los sitios que cumplen las condiciones del fingerprinting por objetos informativos de JS (Interseccion en un solo set)\n",
    "    info_sites = info_sites_1 | info_sites_2\n",
    "\n",
    "    if len(info_sites) == 0:\n",
    "        print('Ninguno de los sitios evaluados aplica esta técnica de fingerprinting')\n",
    "\n",
    "    else:\n",
    "# Separamos el set en dos listas\n",
    "        a, b = zip(*(s.split(' ') for s in info_sites))\n",
    "\n",
    "# Creamos un dataframe con las dos listas\n",
    "        df1 = pd.DataFrame({'URL Sitio Web': a, 'URL Script': b})\n",
    "        df1 = df1[['URL Sitio Web', 'URL Script']]\n",
    "\n",
    "        def make_clickable(val):\n",
    "            return '<a href=\"{}\">{}</a>'.format(val,val)\n",
    "\n",
    "#pd.options.display.max_colwidth\n",
    "        pd.set_option('max_colwidth', -1)\n",
    "\n",
    "        print('Los sitios web que aplican Fingerprinting por objetos informativos de JavaScript según los criterios analizados son los siguientes:')\n",
    "        display(df1.style.format(make_clickable))\n",
    "\n",
    "else:\n",
    "    print('No se ha podido encontrar la base de datos resultante de ejecutar OpenWPM')"
   ]
  },
  {
   "cell_type": "code",
   "execution_count": 33,
   "metadata": {
    "hide_input": true,
    "init_cell": true
   },
   "outputs": [
    {
     "data": {
      "application/vnd.jupyter.widget-view+json": {
       "model_id": "e7bc8238ddbe4811b81318d545ede978",
       "version_major": 2,
       "version_minor": 0
      },
      "text/html": [
       "<p>Failed to display Jupyter Widget of type <code>Button</code>.</p>\n",
       "<p>\n",
       "  If you're reading this message in the Jupyter Notebook or JupyterLab Notebook, it may mean\n",
       "  that the widgets JavaScript is still loading. If this message persists, it\n",
       "  likely means that the widgets JavaScript library is either not installed or\n",
       "  not enabled. See the <a href=\"https://ipywidgets.readthedocs.io/en/stable/user_install.html\">Jupyter\n",
       "  Widgets Documentation</a> for setup instructions.\n",
       "</p>\n",
       "<p>\n",
       "  If you're reading this message in another frontend (for example, a static\n",
       "  rendering on GitHub or <a href=\"https://nbviewer.jupyter.org/\">NBViewer</a>),\n",
       "  it may mean that your frontend doesn't currently support widgets.\n",
       "</p>\n"
      ],
      "text/plain": [
       "Button(button_style='info', description='Canvas', style=ButtonStyle())"
      ]
     },
     "metadata": {},
     "output_type": "display_data"
    }
   ],
   "source": [
    "button = widgets.Button(button_style='info',description=\"Canvas\")\n",
    "button.on_click(run_cell)\n",
    "display(button)"
   ]
  },
  {
   "cell_type": "code",
   "execution_count": null,
   "metadata": {
    "hide_input": true,
    "scrolled": false
   },
   "outputs": [],
   "source": [
    "if os.path.isfile(\"crawl-data.sqlite\"):\n",
    "    \n",
    "    print(\"Procesando...\")\n",
    "    clear_output(wait=True)\n",
    "\n",
    "# Conecta con la base de datos que origina OpenWPM como resultado\n",
    "    wpm_db = \"crawl-data.sqlite\"\n",
    "    conn = lite.connect(wpm_db)\n",
    "    cur = conn.cursor()\n",
    "\n",
    "# Define los valores que permiten comprobar las condiciones de canvas fingerprinting\n",
    "    canvas_h = \"HTMLCanvasElement.height\"\n",
    "    canvas_w = \"HTMLCanvasElement.width\"\n",
    "    canvas_cf= \"CanvasRenderingContext2D.fillStyle\"\n",
    "    canvas_cs= \"CanvasRenderingContext2D.strokeStyle\"\n",
    "    canvas_ff= \"CanvasRenderingContext2D.fillText\"\n",
    "    canvas_fs= \"CanvasRenderingContext2D.strokeText\"\n",
    "    canvas_save= \"CanvasRenderingContext2D.save\"\n",
    "    canvas_rest= \"CanvasRenderingContext2D.restore\"\n",
    "    canvas_el= \"HTMLCanvasElement.addEventListener\"\n",
    "    canvas_data= \"HTMLCanvasElement.toDataURL\"\n",
    "    canvas_img= \"CanvasRenderingContext2D.getImageData\"\n",
    "    fp_1 = set()\n",
    "    fp_2 = set()\n",
    "    fp_3 = set()\n",
    "    fp_4 = set()\n",
    "    veri_1 = set()\n",
    "    veri_2 = set()\n",
    "    fp_sites = set()\n",
    "\n",
    "# Busca en la base de datos, verificando los sitios donde se cumplen las cuatro condiciones de canvas fingerprinting\n",
    "\n",
    "    for url, symbol, op, val, arg, top_url in cur.execute(\"SELECT distinct j.script_url, j.symbol, j.operation, j.value, j.arguments, v.site_url FROM javascript as j JOIN site_visits as v ON j.visit_id = v.visit_id WHERE j.symbol LIKE '%Canvas%' ORDER BY v.site_url;\"):\n",
    "\n",
    "        if canvas_h in symbol: \n",
    "            if val != \"null\" and float(val) >= 16:\n",
    "                veri_1.add(symbol + url)\n",
    "                if (canvas_w + url) in veri_1:\n",
    "                    fp_1.add(top_url + ' ' + url)\n",
    "        elif canvas_w in symbol:\n",
    "            if val != \"null\" and float(val) >= 16:\n",
    "                veri_1.add(symbol + url)\n",
    "                if (canvas_h + url) in veri_1:\n",
    "                    fp_1.add(top_url + ' ' + url)\n",
    "            \n",
    "        if canvas_cf in symbol:\n",
    "            veri_2.add(symbol + url + val)\n",
    "            if (canvas_cs + url + val) in veri_2:\n",
    "                fp_2.add(top_url + ' ' + url)\n",
    "            elif (sum((canvas_cf + url) in s for s in veri_2)) > 1:\n",
    "                fp_2.add(top_url + ' ' + url)\n",
    "        elif canvas_cs in symbol:\n",
    "            veri_2.add(symbol + url + val)\n",
    "            if (canvas_cf + url + val) in veri_2:\n",
    "                fp_2.add(top_url + ' ' + url)\n",
    "            elif (sum((canvas_cs + url) in s for s in veri_2)) > 1:\n",
    "                fp_2.add(top_url + ' ' + url)\n",
    "        elif canvas_ff in symbol and (len(set(arg[arg.find('0\":\"')+4:arg.find(',\"1\"')-1])))>= 10:\t\n",
    "            fp_2.add(top_url + ' ' + url)\n",
    "        elif canvas_fs in symbol and (len(set(arg[arg.find('0\":\"')+4:arg.find(',\"1\"')-1])))>= 10:\t\n",
    "            fp_2.add(top_url + ' ' + url)\n",
    "\n",
    "        if canvas_save in symbol:\n",
    "            fp_3.add(top_url + ' ' + url)\n",
    "        elif canvas_rest in symbol:\n",
    "            fp_3.add(top_url + ' ' + url)\n",
    "        elif canvas_el in symbol:\n",
    "            fp_3.add(top_url + ' ' + url)\n",
    "\n",
    "        if canvas_data in symbol:\n",
    "            fp_4.add(top_url + ' ' + url)\n",
    "        elif canvas_img in symbol:\n",
    "            if float(arg[arg.find('\"2\":')+4:arg.find(',\"3\"')]) >= 16:\n",
    "                if float(arg[arg.find('\"3\":')+4:arg.find('}')]) >= 16:\n",
    "                    fp_4.add(top_url + ' ' + url)\n",
    "\n",
    "# Agrupa los sitios que cumplen las cuatro condiciones del canvas fingerprinting (Interseccion en un solo set)\n",
    "    fp_sites = (fp_1 & fp_2 & fp_4) - fp_3\n",
    "        \n",
    "    if len(fp_sites) == 0:\n",
    "        print('Ninguno de los sitios evaluados aplica esta técnica de fingerprinting')\n",
    "\n",
    "    else:\n",
    "# Separamos el set en dos listas\n",
    "        c, d = zip(*(s.split(' ') for s in fp_sites))\n",
    "\n",
    "# Creamos un dataframe con las dos listas\n",
    "        df2 = pd.DataFrame({'URL Sitio Web': c, 'URL Script': d})\n",
    "        df2 = df2[['URL Sitio Web', 'URL Script']]\n",
    "\n",
    "        def make_clickable(val):\n",
    "            return '<a href=\"{}\">{}</a>'.format(val,val)\n",
    "\n",
    "#pd.options.display.max_colwidth\n",
    "        pd.set_option('max_colwidth', -1)\n",
    "\n",
    "        print('Los sitios web que aplican Canvas Fingerprinting según los criterios analizados son los siguientes:')\n",
    "        display(df2.style.format(make_clickable))\n",
    "\n",
    "else:\n",
    "    print('No se ha podido encontrar la base de datos resultante de ejecutar OpenWPM')"
   ]
  },
  {
   "cell_type": "code",
   "execution_count": 34,
   "metadata": {
    "hide_input": true,
    "init_cell": true
   },
   "outputs": [
    {
     "data": {
      "application/vnd.jupyter.widget-view+json": {
       "model_id": "e692b2a1ffe64677b37e3256dc866fb9",
       "version_major": 2,
       "version_minor": 0
      },
      "text/html": [
       "<p>Failed to display Jupyter Widget of type <code>Button</code>.</p>\n",
       "<p>\n",
       "  If you're reading this message in the Jupyter Notebook or JupyterLab Notebook, it may mean\n",
       "  that the widgets JavaScript is still loading. If this message persists, it\n",
       "  likely means that the widgets JavaScript library is either not installed or\n",
       "  not enabled. See the <a href=\"https://ipywidgets.readthedocs.io/en/stable/user_install.html\">Jupyter\n",
       "  Widgets Documentation</a> for setup instructions.\n",
       "</p>\n",
       "<p>\n",
       "  If you're reading this message in another frontend (for example, a static\n",
       "  rendering on GitHub or <a href=\"https://nbviewer.jupyter.org/\">NBViewer</a>),\n",
       "  it may mean that your frontend doesn't currently support widgets.\n",
       "</p>\n"
      ],
      "text/plain": [
       "Button(button_style='info', description='Canvas-Fuentes', style=ButtonStyle())"
      ]
     },
     "metadata": {},
     "output_type": "display_data"
    }
   ],
   "source": [
    "button = widgets.Button(button_style='info',description=\"Canvas-Fuentes\")\n",
    "button.on_click(run_cell)\n",
    "display(button)"
   ]
  },
  {
   "cell_type": "code",
   "execution_count": null,
   "metadata": {
    "hide_input": true
   },
   "outputs": [],
   "source": [
    "if os.path.isfile(\"crawl-data.sqlite\"):\n",
    "    \n",
    "    print(\"Procesando...\")\n",
    "    clear_output(wait=True)\n",
    "\n",
    "# Conecta con la base de datos que origina OpenWPM como resultado\n",
    "    wpm_db = \"crawl-data.sqlite\"\n",
    "    conn = lite.connect(wpm_db)\n",
    "    cur = conn.cursor()\n",
    "\n",
    "# Define los valores que permiten comprobar las condiciones de canvas font fingerprinting\n",
    "    canvas_font= \"CanvasRenderingContext2D.font\"\n",
    "    canvas_text= \"CanvasRenderingContext2D.measureText\"\n",
    "    fontp_1 = set()\n",
    "    fontp_2 = set()\n",
    "    verif_1 = set()\n",
    "    verif_2 = list()\n",
    "    fontp_sites = set()\n",
    "\n",
    "# Busca en la base de datos, verificando los sitios donde se cumplen las dos condiciones de canvas font fingerprinting\n",
    "\n",
    "    for url, vid, symbol, op, val, arg, top_url in cur.execute(\"SELECT j.script_url, j.visit_id, j.symbol, j.operation, j.value, j.arguments, v.site_url FROM javascript as j JOIN site_visits as v ON j.visit_id = v.visit_id WHERE j.symbol LIKE '%Canvas%' ORDER BY v.site_url;\"):\n",
    "\n",
    "        if canvas_font in symbol:\n",
    "            verif_1.add(symbol + url + val)\n",
    "            if (sum((canvas_font + url) in s for s in verif_1)) >= 50:\n",
    "                fontp_1.add(top_url + ' ' + url)\n",
    "\n",
    "        if canvas_text in symbol:\n",
    "            verif_2.append(str(vid) + symbol + url + arg)\n",
    "            if verif_2.count(str(vid) + symbol + url + arg) >= 50:\n",
    "                fontp_2.add(top_url + ' ' + url)\n",
    "\n",
    "# Agrupa los sitios que cumplen las dos condiciones del canvas font fingerprinting (Interseccion en un solo set)\n",
    "    fontp_sites = fontp_1 & fontp_2\n",
    "\n",
    "    if len(fontp_sites) == 0:\n",
    "        print('Ninguno de los sitios evaluados aplica esta técnica de fingerprinting')\n",
    "\n",
    "    else:\n",
    "# Separamos el set en dos listas\n",
    "        e, f = zip(*(s.split(' ') for s in fontp_sites))\n",
    "\n",
    "# Creamos un dataframe con las dos listas\n",
    "        df3 = pd.DataFrame({'URL Sitio Web': e, 'URL Script': f})\n",
    "        df3 = df3[['URL Sitio Web', 'URL Script']]\n",
    "\n",
    "        def make_clickable(val):\n",
    "            return '<a href=\"{}\">{}</a>'.format(val,val)\n",
    "\n",
    "#pd.options.display.max_colwidth\n",
    "        pd.set_option('max_colwidth', -1)\n",
    "\n",
    "        print('Los sitios web que aplican Fingerprinting de fuentes a través de Canvas según los criterios analizados son los siguientes:')\n",
    "        display(df3.style.format(make_clickable))\n",
    "\n",
    "else:\n",
    "    print('No se ha podido encontrar la base de datos resultante de ejecutar OpenWPM')"
   ]
  },
  {
   "cell_type": "code",
   "execution_count": 35,
   "metadata": {
    "hide_input": true,
    "init_cell": true
   },
   "outputs": [
    {
     "data": {
      "application/vnd.jupyter.widget-view+json": {
       "model_id": "c1633d09930240848fe10c09cc8ce369",
       "version_major": 2,
       "version_minor": 0
      },
      "text/html": [
       "<p>Failed to display Jupyter Widget of type <code>Button</code>.</p>\n",
       "<p>\n",
       "  If you're reading this message in the Jupyter Notebook or JupyterLab Notebook, it may mean\n",
       "  that the widgets JavaScript is still loading. If this message persists, it\n",
       "  likely means that the widgets JavaScript library is either not installed or\n",
       "  not enabled. See the <a href=\"https://ipywidgets.readthedocs.io/en/stable/user_install.html\">Jupyter\n",
       "  Widgets Documentation</a> for setup instructions.\n",
       "</p>\n",
       "<p>\n",
       "  If you're reading this message in another frontend (for example, a static\n",
       "  rendering on GitHub or <a href=\"https://nbviewer.jupyter.org/\">NBViewer</a>),\n",
       "  it may mean that your frontend doesn't currently support widgets.\n",
       "</p>\n"
      ],
      "text/plain": [
       "Button(button_style='info', description='WebRTC', style=ButtonStyle())"
      ]
     },
     "metadata": {},
     "output_type": "display_data"
    }
   ],
   "source": [
    "button = widgets.Button(button_style='info',description=\"WebRTC\")\n",
    "button.on_click(run_cell)\n",
    "display(button)"
   ]
  },
  {
   "cell_type": "code",
   "execution_count": null,
   "metadata": {
    "hide_input": true
   },
   "outputs": [],
   "source": [
    "if os.path.isfile(\"crawl-data.sqlite\"):\n",
    "    \n",
    "    print(\"Procesando...\")\n",
    "    clear_output(wait=True)\n",
    "\n",
    "# Conecta con la base de datos que origina OpenWPM como resultado\n",
    "    wpm_db = \"crawl-data.sqlite\"\n",
    "    conn = lite.connect(wpm_db)\n",
    "    cur = conn.cursor()\n",
    "\n",
    "# Define los valores que permiten comprobar las condiciones de webRTC fingerprinting\n",
    "    rtc_data= \"RTCPeerConnection.createDataChannel\"\n",
    "    rtc_offer= \"RTCPeerConnection.createOffer\"\n",
    "    rtc_cand= \"RTCPeerConnection.onicecandidate\"\n",
    "    rtc_1 = set()\n",
    "    rtc_2 = set()\n",
    "    rtc_3 = set()\n",
    "    rtc_sites_0 = set()\n",
    "    rtc_sites_1 = set()\n",
    "    rtc_sites_2 = set()\n",
    "    rtc_sites_3 = set()\n",
    "    rtc_sites = set()\n",
    "\n",
    "# Busca en la base de datos, verificando los sitios donde se cumplen las condiciones de webRTC fingerprinting\n",
    "\n",
    "    for url, symbol, op, val, arg, top_url in cur.execute(\"SELECT j.script_url, j.symbol, j.operation, j.value, j.arguments, v.site_url FROM javascript as j JOIN site_visits as v ON j.visit_id = v.visit_id WHERE j.symbol LIKE '%RTCPeerConnection%' ORDER BY v.site_url;\"):\n",
    "\n",
    "        if rtc_data in symbol:\n",
    "            rtc_1.add(top_url + ' ' + url)\n",
    "\n",
    "        if rtc_offer in symbol:\n",
    "            rtc_2.add(top_url + ' ' + url)\n",
    "\n",
    "        if rtc_cand in symbol:\n",
    "            rtc_3.add(top_url + ' ' + url)\n",
    "\n",
    "# Agrupa los sitios que cumplen las condiciones del webRTC fingerprinting (Interseccion en un solo set)\n",
    "    rtc_sites_0 = rtc_1 & rtc_2 & rtc_3\n",
    "\n",
    "# Comprueba si la información de webRTC es utilizada en un contexto de fingerprinting\n",
    "\n",
    "    rtc_sites_1 = rtc_sites_0 & info_sites\n",
    "    rtc_sites_2 = rtc_sites_0 & fp_sites\n",
    "    rtc_sites_3 = rtc_sites_0 & fontp_sites\n",
    "\n",
    "    rtc_sites = rtc_sites_1 | rtc_sites_2 | rtc_sites_3\n",
    "\n",
    "    if len(rtc_sites) == 0:\n",
    "        print('Ninguno de los sitios evaluados aplica esta técnica de fingerprinting')\n",
    "\n",
    "    else:\n",
    "# Separamos el set en dos listas\n",
    "        g, h = zip(*(s.split(' ') for s in rtc_sites))\n",
    "\n",
    "# Creamos un dataframe con las dos listas\n",
    "        df4 = pd.DataFrame({'URL Sitio Web': g, 'URL Script': h})\n",
    "        df4 = df4[['URL Sitio Web', 'URL Script']]\n",
    "\n",
    "        def make_clickable(val):\n",
    "            return '<a href=\"{}\">{}</a>'.format(val,val)\n",
    "\n",
    "#pd.options.display.max_colwidth\n",
    "        pd.set_option('max_colwidth', -1)\n",
    "\n",
    "        print('Los sitios web que aplican Fingerprinting WebRTC según los criterios analizados son los siguientes:')\n",
    "        display(df4.style.format(make_clickable))\n",
    "\n",
    "else:\n",
    "    print('No se ha podido encontrar la base de datos resultante de ejecutar OpenWPM')"
   ]
  },
  {
   "cell_type": "markdown",
   "metadata": {},
   "source": [
    "Por defecto se guarda una base de datos donde se acumulan todos los datos obtenidos a través de OpenWPM. Si desea partir en limpio para la siguiente ejecución, presione el botón **Borrar Resultados**."
   ]
  },
  {
   "cell_type": "code",
   "execution_count": 36,
   "metadata": {
    "hide_input": true,
    "init_cell": true
   },
   "outputs": [
    {
     "data": {
      "application/vnd.jupyter.widget-view+json": {
       "model_id": "0ae96e639ee64a7e813f40a46ddfb6a4",
       "version_major": 2,
       "version_minor": 0
      },
      "text/html": [
       "<p>Failed to display Jupyter Widget of type <code>Button</code>.</p>\n",
       "<p>\n",
       "  If you're reading this message in the Jupyter Notebook or JupyterLab Notebook, it may mean\n",
       "  that the widgets JavaScript is still loading. If this message persists, it\n",
       "  likely means that the widgets JavaScript library is either not installed or\n",
       "  not enabled. See the <a href=\"https://ipywidgets.readthedocs.io/en/stable/user_install.html\">Jupyter\n",
       "  Widgets Documentation</a> for setup instructions.\n",
       "</p>\n",
       "<p>\n",
       "  If you're reading this message in another frontend (for example, a static\n",
       "  rendering on GitHub or <a href=\"https://nbviewer.jupyter.org/\">NBViewer</a>),\n",
       "  it may mean that your frontend doesn't currently support widgets.\n",
       "</p>\n"
      ],
      "text/plain": [
       "Button(button_style='danger', description='Borrar Resultados', style=ButtonStyle())"
      ]
     },
     "metadata": {},
     "output_type": "display_data"
    }
   ],
   "source": [
    "button = widgets.Button(button_style='danger',description=\"Borrar Resultados\")\n",
    "button.on_click(run_cell)\n",
    "display(button)"
   ]
  },
  {
   "cell_type": "code",
   "execution_count": null,
   "metadata": {
    "hide_input": true
   },
   "outputs": [],
   "source": [
    "if os.path.isfile(\"crawl-data.sqlite\"):\n",
    "    os.remove(\"crawl-data.sqlite\")\n",
    "if 'info_sites' in locals() or 'info_sites' in globals():\n",
    "    info_sites.clear()\n",
    "if 'fp_sites' in locals() or 'fp_sites' in globals():\n",
    "    fp_sites.clear()\n",
    "if 'fontp_sites' in locals() or 'fontp_sites' in globals():\n",
    "    fontp_sites.clear()\n",
    "if 'rtc_sites' in locals() or 'rtc_sites' in globals():\n",
    "    rtc_sites.clear()\n",
    "print(\"Borrado exitoso. Si desea iniciar en limpio, reinicie el notebook a través de la opción 'Kernel --> Restart & Clear Output'\")"
   ]
  },
  {
   "cell_type": "markdown",
   "metadata": {
    "hide_input": true
   },
   "source": [
    "<div style=\"text-align: right\"> © 2018 Juan D. Márquez Lagalla </div>"
   ]
  }
 ],
 "metadata": {
  "kernelspec": {
   "display_name": "Python 3",
   "language": "python",
   "name": "python3"
  },
  "language_info": {
   "codemirror_mode": {
    "name": "ipython",
    "version": 3
   },
   "file_extension": ".py",
   "mimetype": "text/x-python",
   "name": "python",
   "nbconvert_exporter": "python",
   "pygments_lexer": "ipython3",
   "version": "3.6.4"
  },
  "widgets": {
   "state": {
    "2d2cb5af17e9422c92c1da8075d46fb5": {
     "views": [
      {
       "cell_index": 9
      }
     ]
    },
    "3738dd596dee4c349aa5da5647e88c4e": {
     "views": [
      {
       "cell_index": 9
      }
     ]
    },
    "390da0ca5310414aa31d3324ac33b093": {
     "views": [
      {
       "cell_index": 9
      }
     ]
    },
    "502fc1c860e14937b10f44c47e68ac8c": {
     "views": [
      {
       "cell_index": 9
      }
     ]
    },
    "525f725d0cf843d6b5d1f2dc4f3c76ec": {
     "views": [
      {
       "cell_index": 9
      }
     ]
    },
    "6412c368914643d2afdade12254936b1": {
     "views": [
      {
       "cell_index": 9
      }
     ]
    },
    "7863ab1c25d64a109a8f4ee157f334d8": {
     "views": [
      {
       "cell_index": 9
      }
     ]
    },
    "93cb1d2f68ff4b8e838af105933259fb": {
     "views": [
      {
       "cell_index": 7
      }
     ]
    },
    "95cc81d87bfa48a58397a724471b7937": {
     "views": [
      {
       "cell_index": 6
      }
     ]
    },
    "ac28ceae82884dc6b6d227e604fc6254": {
     "views": [
      {
       "cell_index": 10
      }
     ]
    },
    "d1c509d77d7f410d8290dd0863d25470": {
     "views": [
      {
       "cell_index": 9
      }
     ]
    },
    "df3ff33d44ca4c3f97f76fcb6062cb9e": {
     "views": [
      {
       "cell_index": 9
      }
     ]
    },
    "e623885ad75f4129b439be95368efb56": {
     "views": [
      {
       "cell_index": 8
      }
     ]
    }
   },
   "version": "1.2.0"
  }
 },
 "nbformat": 4,
 "nbformat_minor": 2
}
